{
  "nbformat": 4,
  "nbformat_minor": 0,
  "metadata": {
    "colab": {
      "provenance": [],
      "authorship_tag": "ABX9TyPuvs44Sv5NRDqPkpul8sCZ",
      "include_colab_link": true
    },
    "kernelspec": {
      "name": "python3",
      "display_name": "Python 3"
    },
    "language_info": {
      "name": "python"
    }
  },
  "cells": [
    {
      "cell_type": "markdown",
      "metadata": {
        "id": "view-in-github",
        "colab_type": "text"
      },
      "source": [
        "<a href=\"https://colab.research.google.com/github/saasha2926/ML-Projects-/blob/main/SpamMailClassification.ipynb\" target=\"_parent\"><img src=\"https://colab.research.google.com/assets/colab-badge.svg\" alt=\"Open In Colab\"/></a>"
      ]
    },
    {
      "cell_type": "code",
      "execution_count": null,
      "metadata": {
        "colab": {
          "base_uri": "https://localhost:8080/"
        },
        "id": "Dt_95oa_KyMy",
        "outputId": "4b218688-5bdf-43e9-aa51-b6252510394b"
      },
      "outputs": [
        {
          "output_type": "stream",
          "name": "stdout",
          "text": [
            "Accuracy: 66.67%\n",
            "\n",
            "Prediction for custom message: Not Spam\n"
          ]
        }
      ],
      "source": [
        "import pandas as pd\n",
        "from sklearn.feature_extraction.text import CountVectorizer\n",
        "from sklearn.model_selection import train_test_split\n",
        "from sklearn.naive_bayes import MultinomialNB\n",
        "from sklearn.metrics import accuracy_score\n",
        "\n",
        "data = {\n",
        "    'text': [\n",
        "        'Free money now',\n",
        "        'Call now to claim your prize',\n",
        "        'Meet me at the park',\n",
        "        'Let’s catch up later',\n",
        "        'Win a new car today!',\n",
        "        'Lunch plans?',\n",
        "        'Congratulations! You won a lottery',\n",
        "        'Can you send me the report?',\n",
        "        'Exclusive offer for you',\n",
        "        'Are you coming to the meeting?'\n",
        "    ],\n",
        "    'label': ['spam', 'spam', 'not spam', 'not spam', 'spam', 'not spam', 'spam', 'not spam', 'spam', 'not spam']\n",
        "}\n",
        "\n",
        "df = pd.DataFrame(data)\n",
        "\n",
        "df['label'] = df['label'].map({'spam': 1, 'not spam': 0})\n",
        "\n",
        "X = df['text']\n",
        "y = df['label']\n",
        "\n",
        "X_train, X_test, y_train, y_test = train_test_split(X, y, test_size=0.3, random_state=42)\n",
        "\n",
        "vectorizer = CountVectorizer()\n",
        "X_train_vectors = vectorizer.fit_transform(X_train)\n",
        "X_test_vectors = vectorizer.transform(X_test)\n",
        "\n",
        "model = MultinomialNB()\n",
        "model.fit(X_train_vectors, y_train)\n",
        "\n",
        "y_pred = model.predict(X_test_vectors)\n",
        "\n",
        "accuracy = accuracy_score(y_test, y_pred)\n",
        "print(f\"Accuracy: {accuracy * 100:.2f}%\\n\")\n",
        "\n",
        "custom_message = [\"Be ready by 3.30 pm\"]\n",
        "custom_vector = vectorizer.transform(custom_message)\n",
        "prediction = model.predict(custom_vector)\n",
        "print(\"Prediction for custom message:\", \"Spam\" if prediction[0] == 1 else \"Not Spam\")\n",
        "\n"
      ]
    }
  ]
}